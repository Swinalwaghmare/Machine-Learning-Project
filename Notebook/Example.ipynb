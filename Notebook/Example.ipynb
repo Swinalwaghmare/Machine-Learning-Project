{
 "cells": [
  {
   "cell_type": "code",
   "execution_count": 1,
   "metadata": {},
   "outputs": [],
   "source": [
    "from collections import namedtuple"
   ]
  },
  {
   "cell_type": "markdown",
   "metadata": {},
   "source": [
    "1. Download url\n",
    "2. Download folder (compressed file)\n",
    "3. Extract folder (extracted file)\n",
    "4. Train dataset folder\n",
    "5. Test dataset folder"
   ]
  },
  {
   "cell_type": "code",
   "execution_count": 2,
   "metadata": {},
   "outputs": [],
   "source": [
    "DataIngestionconfig = namedtuple(\"DataIngestionconfig\",\n",
    "                                 [\"dataset_download_url\",\"tqz_download_dir\",\"raw_data_dir\",\"ingested_train_dir\",\"ingested_test_dir\"])"
   ]
  },
  {
   "cell_type": "code",
   "execution_count": 5,
   "metadata": {},
   "outputs": [],
   "source": [
    "data = DataIngestionconfig(dataset_download_url=\"adsd\",\n",
    "                    tqz_download_dir=\"adsad\",\n",
    "                    raw_data_dir=\"adsad\",\n",
    "                    ingested_train_dir=\"fdfdf\",\n",
    "                    ingested_test_dir=\"dsads\")"
   ]
  },
  {
   "cell_type": "code",
   "execution_count": 6,
   "metadata": {},
   "outputs": [
    {
     "data": {
      "text/plain": [
       "DataIngestionconfig(dataset_download_url='adsd', tqz_download_dir='adsad', raw_data_dir='adsad', ingested_train_dir='fdfdf', ingested_test_dir='dsads')"
      ]
     },
     "execution_count": 6,
     "metadata": {},
     "output_type": "execute_result"
    }
   ],
   "source": [
    "data"
   ]
  },
  {
   "cell_type": "code",
   "execution_count": 1,
   "metadata": {},
   "outputs": [],
   "source": [
    "import yaml"
   ]
  },
  {
   "cell_type": "code",
   "execution_count": 2,
   "metadata": {},
   "outputs": [],
   "source": [
    "import os"
   ]
  },
  {
   "cell_type": "code",
   "execution_count": 3,
   "metadata": {},
   "outputs": [
    {
     "data": {
      "text/plain": [
       "'f:\\\\Project\\\\Machine-Learning-Project\\\\Notebook'"
      ]
     },
     "execution_count": 3,
     "metadata": {},
     "output_type": "execute_result"
    }
   ],
   "source": [
    "os.getcwd()"
   ]
  },
  {
   "cell_type": "code",
   "execution_count": 4,
   "metadata": {},
   "outputs": [],
   "source": [
    "os.chdir(\"f:\\\\Project\\\\Machine-Learning-Project\")"
   ]
  },
  {
   "cell_type": "code",
   "execution_count": 5,
   "metadata": {},
   "outputs": [
    {
     "data": {
      "text/plain": [
       "'f:\\\\Project\\\\Machine-Learning-Project'"
      ]
     },
     "execution_count": 5,
     "metadata": {},
     "output_type": "execute_result"
    }
   ],
   "source": [
    "os.getcwd()"
   ]
  },
  {
   "cell_type": "code",
   "execution_count": 7,
   "metadata": {},
   "outputs": [
    {
     "data": {
      "text/plain": [
       "['config.yaml']"
      ]
     },
     "execution_count": 7,
     "metadata": {},
     "output_type": "execute_result"
    }
   ],
   "source": [
    "os.listdir(\"config\")"
   ]
  },
  {
   "cell_type": "code",
   "execution_count": 10,
   "metadata": {},
   "outputs": [],
   "source": [
    "#config_file_path = \"config/config.yaml\"\n",
    "config_file_path = os.path.join(\"config\",\"config.yaml\")"
   ]
  },
  {
   "cell_type": "code",
   "execution_count": 11,
   "metadata": {},
   "outputs": [
    {
     "data": {
      "text/plain": [
       "'config\\\\config.yaml'"
      ]
     },
     "execution_count": 11,
     "metadata": {},
     "output_type": "execute_result"
    }
   ],
   "source": [
    "config_file_path"
   ]
  },
  {
   "cell_type": "code",
   "execution_count": 12,
   "metadata": {},
   "outputs": [
    {
     "data": {
      "text/plain": [
       "True"
      ]
     },
     "execution_count": 12,
     "metadata": {},
     "output_type": "execute_result"
    }
   ],
   "source": [
    "os.path.exists(config_file_path)"
   ]
  },
  {
   "cell_type": "code",
   "execution_count": 13,
   "metadata": {},
   "outputs": [],
   "source": [
    "config_info = None\n",
    "with open(config_file_path,\"rb\") as yaml_file:\n",
    "    config_info = yaml.safe_load(yaml_file)"
   ]
  },
  {
   "cell_type": "code",
   "execution_count": 14,
   "metadata": {},
   "outputs": [
    {
     "data": {
      "text/plain": [
       "{'training_pipeline_config': {'pipeline_name': 'housing',\n",
       "  'artifact_dir': 'artifact'},\n",
       " 'data_ingestion_config': {'dataset_download_url': 'https://raw.githubusercontent.com/ageron/handson-ml/master/datasets/housing/housing.tgz',\n",
       "  'raw_data_dir': 'raw_data',\n",
       "  'tgz_download_dir': 'tgz_data',\n",
       "  'ingested_dir': 'ingested_data',\n",
       "  'ingested_train_dir': 'train',\n",
       "  'ingested_test_dir': 'test'},\n",
       " 'data_validation_config': {'schema_dir': 'config',\n",
       "  'schema_file_name': 'schema.yaml',\n",
       "  'report_file_name': 'report.json',\n",
       "  'report_page_file_name': 'report.html'},\n",
       " 'data_transformation_config': {'add_bedroom_per_room': True,\n",
       "  'transformed_dir': 'transformed_data',\n",
       "  'transformed_train_dir': 'train',\n",
       "  'transformed_test_dir': 'test',\n",
       "  'preprocessing_dir': 'preprocessed',\n",
       "  'preprocessed_object_file_name': 'preprocessed.pkl'},\n",
       " 'model_trainer_config': {'trained_model_dir': 'trained_model',\n",
       "  'model_file_name': 'model.pkl',\n",
       "  'base_accuracy': 0.6,\n",
       "  'model_config_dir': 'config',\n",
       "  'model_config_file_name': 'model.yaml'},\n",
       " 'model_evaluation_config': {'model_evaluation_file_name': 'model_evaluation.yaml'},\n",
       " 'model_pusher_config': {'model_export_dir': 'saved_models'}}"
      ]
     },
     "execution_count": 14,
     "metadata": {},
     "output_type": "execute_result"
    }
   ],
   "source": [
    "config_info"
   ]
  },
  {
   "cell_type": "code",
   "execution_count": 15,
   "metadata": {},
   "outputs": [
    {
     "data": {
      "text/plain": [
       "{'dataset_download_url': 'https://raw.githubusercontent.com/ageron/handson-ml/master/datasets/housing/housing.tgz',\n",
       " 'raw_data_dir': 'raw_data',\n",
       " 'tgz_download_dir': 'tgz_data',\n",
       " 'ingested_dir': 'ingested_data',\n",
       " 'ingested_train_dir': 'train',\n",
       " 'ingested_test_dir': 'test'}"
      ]
     },
     "execution_count": 15,
     "metadata": {},
     "output_type": "execute_result"
    }
   ],
   "source": [
    "config_info[\"data_ingestion_config\"]"
   ]
  },
  {
   "cell_type": "code",
   "execution_count": 16,
   "metadata": {},
   "outputs": [],
   "source": [
    "def read_yaml_file(file_path:str) ->dict:\n",
    "    \"\"\"Read a YAML file \n",
    "\n",
    "    Args:\n",
    "        file_path (str): Absoulute address of file\n",
    "\n",
    "    Returns:\n",
    "        The contents as a dictionary\n",
    "    \"\"\"\n",
    "    \n",
    "    try: \n",
    "        with open(file_path,\"rb\")  as yaml_file:\n",
    "            return yaml.safe_load(yaml_file)\n",
    "    except Exception as  e:\n",
    "        raise e"
   ]
  },
  {
   "cell_type": "code",
   "execution_count": 17,
   "metadata": {},
   "outputs": [
    {
     "data": {
      "text/plain": [
       "{'training_pipeline_config': {'pipeline_name': 'housing',\n",
       "  'artifact_dir': 'artifact'},\n",
       " 'data_ingestion_config': {'dataset_download_url': 'https://raw.githubusercontent.com/ageron/handson-ml/master/datasets/housing/housing.tgz',\n",
       "  'raw_data_dir': 'raw_data',\n",
       "  'tgz_download_dir': 'tgz_data',\n",
       "  'ingested_dir': 'ingested_data',\n",
       "  'ingested_train_dir': 'train',\n",
       "  'ingested_test_dir': 'test'},\n",
       " 'data_validation_config': {'schema_dir': 'config',\n",
       "  'schema_file_name': 'schema.yaml',\n",
       "  'report_file_name': 'report.json',\n",
       "  'report_page_file_name': 'report.html'},\n",
       " 'data_transformation_config': {'add_bedroom_per_room': True,\n",
       "  'transformed_dir': 'transformed_data',\n",
       "  'transformed_train_dir': 'train',\n",
       "  'transformed_test_dir': 'test',\n",
       "  'preprocessing_dir': 'preprocessed',\n",
       "  'preprocessed_object_file_name': 'preprocessed.pkl'},\n",
       " 'model_trainer_config': {'trained_model_dir': 'trained_model',\n",
       "  'model_file_name': 'model.pkl',\n",
       "  'base_accuracy': 0.6,\n",
       "  'model_config_dir': 'config',\n",
       "  'model_config_file_name': 'model.yaml'},\n",
       " 'model_evaluation_config': {'model_evaluation_file_name': 'model_evaluation.yaml'},\n",
       " 'model_pusher_config': {'model_export_dir': 'saved_models'}}"
      ]
     },
     "execution_count": 17,
     "metadata": {},
     "output_type": "execute_result"
    }
   ],
   "source": [
    "read_yaml_file(config_file_path)"
   ]
  },
  {
   "cell_type": "code",
   "execution_count": 1,
   "metadata": {},
   "outputs": [],
   "source": [
    "from housing.config.configuration import Configuration"
   ]
  },
  {
   "cell_type": "code",
   "execution_count": 5,
   "metadata": {},
   "outputs": [
    {
     "ename": "NotADirectoryError",
     "evalue": "[WinError 267] The directory name is invalid: 'f:\\\\Project\\\\Machine-Learning-Project\\\\config\\\\config.yaml'",
     "output_type": "error",
     "traceback": [
      "\u001b[1;31m---------------------------------------------------------------------------\u001b[0m",
      "\u001b[1;31mNotADirectoryError\u001b[0m                        Traceback (most recent call last)",
      "\u001b[1;32m~\\AppData\\Local\\Temp\\ipykernel_37452\\761118997.py\u001b[0m in \u001b[0;36m<module>\u001b[1;34m\u001b[0m\n\u001b[1;32m----> 1\u001b[1;33m \u001b[0mos\u001b[0m\u001b[1;33m.\u001b[0m\u001b[0mchdir\u001b[0m\u001b[1;33m(\u001b[0m\u001b[1;34m\"f:\\\\Project\\\\Machine-Learning-Project\\\\config\\\\config.yaml\"\u001b[0m\u001b[1;33m)\u001b[0m\u001b[1;33m\u001b[0m\u001b[0m\n\u001b[0m",
      "\u001b[1;31mNotADirectoryError\u001b[0m: [WinError 267] The directory name is invalid: 'f:\\\\Project\\\\Machine-Learning-Project\\\\config\\\\config.yaml'"
     ]
    }
   ],
   "source": [
    "os.chdir(\"f:\\\\Project\\\\Machine-Learning-Project\\\\config\\\\config.yaml\")"
   ]
  },
  {
   "cell_type": "code",
   "execution_count": 2,
   "metadata": {},
   "outputs": [],
   "source": [
    "config = Configuration(config_file_path=\"f:\\\\Project\\\\Machine-Learning-Project\\\\config\\\\config.yaml\")"
   ]
  },
  {
   "cell_type": "code",
   "execution_count": 3,
   "metadata": {},
   "outputs": [
    {
     "data": {
      "text/plain": [
       "DataIngestionConfig(dataset_download_url='https://raw.githubusercontent.com/ageron/handson-ml/master/datasets/housing/housing.tgz', tgz_download_dir='f:\\\\Project\\\\Machine-Learning-Project\\\\Notebook\\\\housing\\\\artifact\\\\data_ingestion\\\\2022-12-01-15-29-14\\\\tgz_data', raw_data_dir='f:\\\\Project\\\\Machine-Learning-Project\\\\Notebook\\\\housing\\\\artifact\\\\data_ingestion\\\\2022-12-01-15-29-14\\\\raw_data', ingested_train_dir='f:\\\\Project\\\\Machine-Learning-Project\\\\Notebook\\\\housing\\\\artifact\\\\data_ingestion\\\\2022-12-01-15-29-14\\\\ingested_data\\\\train', ingested_test_dir='f:\\\\Project\\\\Machine-Learning-Project\\\\Notebook\\\\housing\\\\artifact\\\\data_ingestion\\\\2022-12-01-15-29-14\\\\ingested_data\\\\test')"
      ]
     },
     "execution_count": 3,
     "metadata": {},
     "output_type": "execute_result"
    }
   ],
   "source": [
    "config.get_data_ingestion_config()"
   ]
  },
  {
   "cell_type": "code",
   "execution_count": null,
   "metadata": {},
   "outputs": [],
   "source": []
  }
 ],
 "metadata": {
  "kernelspec": {
   "display_name": "Python 3.7.0 (conda)",
   "language": "python",
   "name": "python3"
  },
  "language_info": {
   "codemirror_mode": {
    "name": "ipython",
    "version": 3
   },
   "file_extension": ".py",
   "mimetype": "text/x-python",
   "name": "python",
   "nbconvert_exporter": "python",
   "pygments_lexer": "ipython3",
   "version": "3.7.0"
  },
  "orig_nbformat": 4,
  "vscode": {
   "interpreter": {
    "hash": "80fc98db4a65d4b602c125d5e19545f4376b7b297abeec943407a0e0b82de6ce"
   }
  }
 },
 "nbformat": 4,
 "nbformat_minor": 2
}
